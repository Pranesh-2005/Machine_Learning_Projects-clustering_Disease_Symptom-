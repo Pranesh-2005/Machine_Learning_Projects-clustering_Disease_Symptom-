{
 "cells": [
  {
   "cell_type": "code",
   "execution_count": 39,
   "id": "650a3876-3430-4904-8b1a-483e1fcaeab4",
   "metadata": {},
   "outputs": [],
   "source": [
    "#importing libraries\n",
    "\n",
    "import numpy as np\n",
    "import pandas  as pd\n",
    "import matplotlib.pyplot as plt\n",
    "import seaborn as sns\n",
    "import warnings \n",
    "warnings.filterwarnings('ignore')"
   ]
  },
  {
   "cell_type": "code",
   "execution_count": 40,
   "id": "1c7bcc8a-a480-4c4f-9e3f-04f5c9565562",
   "metadata": {},
   "outputs": [
    {
     "data": {
      "text/html": [
       "<div>\n",
       "<style scoped>\n",
       "    .dataframe tbody tr th:only-of-type {\n",
       "        vertical-align: middle;\n",
       "    }\n",
       "\n",
       "    .dataframe tbody tr th {\n",
       "        vertical-align: top;\n",
       "    }\n",
       "\n",
       "    .dataframe thead th {\n",
       "        text-align: right;\n",
       "    }\n",
       "</style>\n",
       "<table border=\"1\" class=\"dataframe\">\n",
       "  <thead>\n",
       "    <tr style=\"text-align: right;\">\n",
       "      <th></th>\n",
       "      <th>Fever</th>\n",
       "      <th>Cough</th>\n",
       "      <th>Fatigue</th>\n",
       "      <th>Breathlessness</th>\n",
       "      <th>Loss of Taste</th>\n",
       "      <th>Age</th>\n",
       "    </tr>\n",
       "  </thead>\n",
       "  <tbody>\n",
       "    <tr>\n",
       "      <th>0</th>\n",
       "      <td>101</td>\n",
       "      <td>1</td>\n",
       "      <td>1</td>\n",
       "      <td>1</td>\n",
       "      <td>1</td>\n",
       "      <td>26</td>\n",
       "    </tr>\n",
       "    <tr>\n",
       "      <th>1</th>\n",
       "      <td>102</td>\n",
       "      <td>1</td>\n",
       "      <td>0</td>\n",
       "      <td>1</td>\n",
       "      <td>1</td>\n",
       "      <td>10</td>\n",
       "    </tr>\n",
       "    <tr>\n",
       "      <th>2</th>\n",
       "      <td>100</td>\n",
       "      <td>1</td>\n",
       "      <td>1</td>\n",
       "      <td>1</td>\n",
       "      <td>0</td>\n",
       "      <td>60</td>\n",
       "    </tr>\n",
       "    <tr>\n",
       "      <th>3</th>\n",
       "      <td>102</td>\n",
       "      <td>0</td>\n",
       "      <td>0</td>\n",
       "      <td>1</td>\n",
       "      <td>1</td>\n",
       "      <td>54</td>\n",
       "    </tr>\n",
       "    <tr>\n",
       "      <th>4</th>\n",
       "      <td>102</td>\n",
       "      <td>1</td>\n",
       "      <td>1</td>\n",
       "      <td>0</td>\n",
       "      <td>0</td>\n",
       "      <td>13</td>\n",
       "    </tr>\n",
       "    <tr>\n",
       "      <th>...</th>\n",
       "      <td>...</td>\n",
       "      <td>...</td>\n",
       "      <td>...</td>\n",
       "      <td>...</td>\n",
       "      <td>...</td>\n",
       "      <td>...</td>\n",
       "    </tr>\n",
       "    <tr>\n",
       "      <th>195</th>\n",
       "      <td>100</td>\n",
       "      <td>1</td>\n",
       "      <td>1</td>\n",
       "      <td>0</td>\n",
       "      <td>0</td>\n",
       "      <td>24</td>\n",
       "    </tr>\n",
       "    <tr>\n",
       "      <th>196</th>\n",
       "      <td>99</td>\n",
       "      <td>0</td>\n",
       "      <td>1</td>\n",
       "      <td>1</td>\n",
       "      <td>0</td>\n",
       "      <td>33</td>\n",
       "    </tr>\n",
       "    <tr>\n",
       "      <th>197</th>\n",
       "      <td>101</td>\n",
       "      <td>0</td>\n",
       "      <td>0</td>\n",
       "      <td>0</td>\n",
       "      <td>0</td>\n",
       "      <td>47</td>\n",
       "    </tr>\n",
       "    <tr>\n",
       "      <th>198</th>\n",
       "      <td>100</td>\n",
       "      <td>1</td>\n",
       "      <td>0</td>\n",
       "      <td>1</td>\n",
       "      <td>0</td>\n",
       "      <td>44</td>\n",
       "    </tr>\n",
       "    <tr>\n",
       "      <th>199</th>\n",
       "      <td>103</td>\n",
       "      <td>0</td>\n",
       "      <td>0</td>\n",
       "      <td>0</td>\n",
       "      <td>0</td>\n",
       "      <td>58</td>\n",
       "    </tr>\n",
       "  </tbody>\n",
       "</table>\n",
       "<p>200 rows × 6 columns</p>\n",
       "</div>"
      ],
      "text/plain": [
       "     Fever  Cough  Fatigue  Breathlessness  Loss of Taste  Age\n",
       "0      101      1        1               1              1   26\n",
       "1      102      1        0               1              1   10\n",
       "2      100      1        1               1              0   60\n",
       "3      102      0        0               1              1   54\n",
       "4      102      1        1               0              0   13\n",
       "..     ...    ...      ...             ...            ...  ...\n",
       "195    100      1        1               0              0   24\n",
       "196     99      0        1               1              0   33\n",
       "197    101      0        0               0              0   47\n",
       "198    100      1        0               1              0   44\n",
       "199    103      0        0               0              0   58\n",
       "\n",
       "[200 rows x 6 columns]"
      ]
     },
     "execution_count": 40,
     "metadata": {},
     "output_type": "execute_result"
    }
   ],
   "source": [
    "ds=pd.read_csv(\"Disease_Symptom_Data.csv\")\n",
    "ds"
   ]
  },
  {
   "cell_type": "code",
   "execution_count": 41,
   "id": "6da861d7-f57c-494e-8dd2-70b9e0543c5a",
   "metadata": {},
   "outputs": [
    {
     "name": "stdout",
     "output_type": "stream",
     "text": [
      "<class 'pandas.core.frame.DataFrame'>\n",
      "RangeIndex: 200 entries, 0 to 199\n",
      "Data columns (total 6 columns):\n",
      " #   Column          Non-Null Count  Dtype\n",
      "---  ------          --------------  -----\n",
      " 0   Fever           200 non-null    int64\n",
      " 1   Cough           200 non-null    int64\n",
      " 2   Fatigue         200 non-null    int64\n",
      " 3   Breathlessness  200 non-null    int64\n",
      " 4   Loss of Taste   200 non-null    int64\n",
      " 5   Age             200 non-null    int64\n",
      "dtypes: int64(6)\n",
      "memory usage: 9.5 KB\n"
     ]
    }
   ],
   "source": [
    "ds.info()"
   ]
  },
  {
   "cell_type": "code",
   "execution_count": 42,
   "id": "a2e6aacd-9ea4-404d-9106-7b8a3b08490d",
   "metadata": {},
   "outputs": [
    {
     "data": {
      "text/plain": [
       "2"
      ]
     },
     "execution_count": 42,
     "metadata": {},
     "output_type": "execute_result"
    }
   ],
   "source": [
    "ds.duplicated().sum()"
   ]
  },
  {
   "cell_type": "code",
   "execution_count": 43,
   "id": "8bbc578d-a643-4f58-a507-aa9230bc7dea",
   "metadata": {},
   "outputs": [],
   "source": [
    "ds.drop_duplicates(inplace=True)"
   ]
  },
  {
   "cell_type": "code",
   "execution_count": 44,
   "id": "cf5f833c-732a-4cd8-88f3-08d92a79d811",
   "metadata": {},
   "outputs": [
    {
     "data": {
      "text/plain": [
       "Fever             0\n",
       "Cough             0\n",
       "Fatigue           0\n",
       "Breathlessness    0\n",
       "Loss of Taste     0\n",
       "Age               0\n",
       "dtype: int64"
      ]
     },
     "execution_count": 44,
     "metadata": {},
     "output_type": "execute_result"
    }
   ],
   "source": [
    "ds.isnull().sum()"
   ]
  },
  {
   "cell_type": "code",
   "execution_count": 45,
   "id": "aa99aa8e-4f7e-4290-b86e-33e03fc61f05",
   "metadata": {},
   "outputs": [
    {
     "data": {
      "text/plain": [
       "Index(['Fever', 'Cough', 'Fatigue', 'Breathlessness', 'Loss of Taste', 'Age'], dtype='object')"
      ]
     },
     "execution_count": 45,
     "metadata": {},
     "output_type": "execute_result"
    }
   ],
   "source": [
    "ds.columns"
   ]
  },
  {
   "cell_type": "code",
   "execution_count": 46,
   "id": "d8a3e294-8742-44c9-b410-621f8a9c58b3",
   "metadata": {},
   "outputs": [],
   "source": [
    "#Taking input values for x\n",
    "\n",
    "x=ds[['Fever', 'Cough', 'Fatigue', 'Breathlessness', 'Loss of Taste']]"
   ]
  },
  {
   "cell_type": "code",
   "execution_count": 47,
   "id": "ff39529d-b5dc-4aca-9a67-489ff74d07f6",
   "metadata": {},
   "outputs": [],
   "source": [
    "#importing model selection library(kmean)and fitting for prediction of cluster\n",
    "\n",
    "from sklearn.cluster import KMeans\n",
    "kmeans=KMeans(n_clusters=5,init='k-means++',random_state=42)\n",
    "y_kmeans=kmeans.fit_predict(x)"
   ]
  },
  {
   "cell_type": "code",
   "execution_count": 48,
   "id": "08c4c6c2-58ae-4894-b11d-4fc211fb299b",
   "metadata": {},
   "outputs": [
    {
     "data": {
      "text/plain": [
       "array([2, 4, 2, 4, 0, 1, 2, 2, 2, 4, 2, 2, 3, 4, 1, 0, 3, 3, 1, 2, 0, 1,\n",
       "       2, 1, 3, 4, 2, 1, 1, 2, 2, 1, 2, 0, 3, 3, 3, 2, 2, 0, 1, 2, 4, 2,\n",
       "       4, 1, 1, 2, 1, 2, 3, 1, 1, 1, 1, 0, 1, 2, 2, 0, 2, 0, 3, 1, 2, 1,\n",
       "       2, 1, 3, 3, 3, 1, 0, 3, 0, 1, 1, 0, 1, 1, 3, 2, 3, 3, 2, 1, 3, 0,\n",
       "       4, 1, 0, 1, 1, 0, 2, 2, 4, 1, 4, 0, 1, 1, 1, 1, 2, 2, 2, 1, 2, 2,\n",
       "       1, 2, 4, 1, 1, 1, 2, 1, 2, 1, 1, 3, 0, 2, 0, 3, 2, 2, 1, 2, 0, 3,\n",
       "       2, 1, 4, 1, 3, 2, 1, 1, 1, 2, 0, 2, 1, 2, 4, 0, 3, 4, 4, 2, 4, 2,\n",
       "       0, 2, 2, 3, 0, 1, 1, 4, 3, 1, 4, 3, 2, 0, 0, 2, 0, 3, 3, 2, 1, 2,\n",
       "       1, 3, 1, 1, 1, 2, 3, 1, 2, 0, 1, 2, 3, 2, 1, 4, 1, 2, 1, 0, 2, 3])"
      ]
     },
     "execution_count": 48,
     "metadata": {},
     "output_type": "execute_result"
    }
   ],
   "source": [
    "#predict cluster for data\n",
    "\n",
    "y_kmeans"
   ]
  },
  {
   "cell_type": "code",
   "execution_count": 49,
   "id": "2a905950-caa5-4789-aa45-e520e80929e2",
   "metadata": {},
   "outputs": [
    {
     "data": {
      "text/html": [
       "<div>\n",
       "<style scoped>\n",
       "    .dataframe tbody tr th:only-of-type {\n",
       "        vertical-align: middle;\n",
       "    }\n",
       "\n",
       "    .dataframe tbody tr th {\n",
       "        vertical-align: top;\n",
       "    }\n",
       "\n",
       "    .dataframe thead th {\n",
       "        text-align: right;\n",
       "    }\n",
       "</style>\n",
       "<table border=\"1\" class=\"dataframe\">\n",
       "  <thead>\n",
       "    <tr style=\"text-align: right;\">\n",
       "      <th></th>\n",
       "      <th>cluster</th>\n",
       "    </tr>\n",
       "  </thead>\n",
       "  <tbody>\n",
       "    <tr>\n",
       "      <th>0</th>\n",
       "      <td>2</td>\n",
       "    </tr>\n",
       "    <tr>\n",
       "      <th>1</th>\n",
       "      <td>4</td>\n",
       "    </tr>\n",
       "    <tr>\n",
       "      <th>2</th>\n",
       "      <td>2</td>\n",
       "    </tr>\n",
       "    <tr>\n",
       "      <th>3</th>\n",
       "      <td>4</td>\n",
       "    </tr>\n",
       "    <tr>\n",
       "      <th>4</th>\n",
       "      <td>0</td>\n",
       "    </tr>\n",
       "    <tr>\n",
       "      <th>...</th>\n",
       "      <td>...</td>\n",
       "    </tr>\n",
       "    <tr>\n",
       "      <th>193</th>\n",
       "      <td>2</td>\n",
       "    </tr>\n",
       "    <tr>\n",
       "      <th>194</th>\n",
       "      <td>1</td>\n",
       "    </tr>\n",
       "    <tr>\n",
       "      <th>195</th>\n",
       "      <td>0</td>\n",
       "    </tr>\n",
       "    <tr>\n",
       "      <th>196</th>\n",
       "      <td>2</td>\n",
       "    </tr>\n",
       "    <tr>\n",
       "      <th>197</th>\n",
       "      <td>3</td>\n",
       "    </tr>\n",
       "  </tbody>\n",
       "</table>\n",
       "<p>198 rows × 1 columns</p>\n",
       "</div>"
      ],
      "text/plain": [
       "     cluster\n",
       "0          2\n",
       "1          4\n",
       "2          2\n",
       "3          4\n",
       "4          0\n",
       "..       ...\n",
       "193        2\n",
       "194        1\n",
       "195        0\n",
       "196        2\n",
       "197        3\n",
       "\n",
       "[198 rows x 1 columns]"
      ]
     },
     "execution_count": 49,
     "metadata": {},
     "output_type": "execute_result"
    }
   ],
   "source": [
    "#making  clusters table\n",
    "\n",
    "result=pd.DataFrame(data=y_kmeans,columns=['cluster'])\n",
    "result"
   ]
  },
  {
   "cell_type": "code",
   "execution_count": 50,
   "id": "d52c963d-304b-403a-8f6f-be9c8a60ac52",
   "metadata": {},
   "outputs": [
    {
     "data": {
      "text/plain": [
       "array([2])"
      ]
     },
     "execution_count": 50,
     "metadata": {},
     "output_type": "execute_result"
    }
   ],
   "source": [
    "#i want to predict my input\n",
    "kmeans.predict([[101,1,1,1,0]])"
   ]
  },
  {
   "cell_type": "code",
   "execution_count": 51,
   "id": "fcd19d4a-f6ab-4da1-924b-34b0e005febc",
   "metadata": {},
   "outputs": [],
   "source": [
    "#join x data and cluster  type data\n",
    "\n",
    "ds=pd.concat([x,result],axis=1)"
   ]
  },
  {
   "cell_type": "code",
   "execution_count": 52,
   "id": "28ad8f6c-e2c1-4b93-aba4-7d318005f1e3",
   "metadata": {},
   "outputs": [
    {
     "data": {
      "text/plain": [
       "Index(['Fever', 'Cough', 'Fatigue', 'Breathlessness', 'Loss of Taste',\n",
       "       'cluster'],\n",
       "      dtype='object')"
      ]
     },
     "execution_count": 52,
     "metadata": {},
     "output_type": "execute_result"
    }
   ],
   "source": [
    "ds.columns"
   ]
  },
  {
   "cell_type": "code",
   "execution_count": 53,
   "id": "63729fce-ae7f-412c-bbf7-7530b6cbb5fa",
   "metadata": {},
   "outputs": [
    {
     "name": "stdout",
     "output_type": "stream",
     "text": [
      "Enter new patient data to predict cluster:\n"
     ]
    },
    {
     "name": "stdin",
     "output_type": "stream",
     "text": [
      "Enter Fever: 95\n",
      "Enter Cough: 1\n",
      "Enter Fatigue: 1\n",
      "Enter Breathlessness: 0\n",
      "Enter Loss of Taste: 1\n"
     ]
    },
    {
     "name": "stdout",
     "output_type": "stream",
     "text": [
      "the customer belongs to cluster:  1\n"
     ]
    }
   ],
   "source": [
    "#user input\n",
    "print(\"Enter new patient data to predict cluster:\")\n",
    "Fever=int(input(\"Enter Fever:\"))\n",
    "Cough=int(input(\"Enter Cough:\"))\n",
    "Fatigue=int(input(\"Enter Fatigue:\"))\n",
    "Breathlessness=int(input(\"Enter Breathlessness:\"))\n",
    "Loss_of_Taste=int(input(\"Enter Loss of Taste:\"))\n",
    "\n",
    "#predict the cluster for new customer\n",
    "predicted_cluster=kmeans.predict([[Fever,Cough,Fatigue,Breathlessness,Loss_of_Taste]])[0]\n",
    "print(f\"the customer belongs to cluster:  {predicted_cluster}\")"
   ]
  },
  {
   "cell_type": "code",
   "execution_count": 56,
   "id": "edf5fc0a-cb2c-48ef-8a47-76dd6ff2351d",
   "metadata": {},
   "outputs": [],
   "source": [
    "import pickle as pkl"
   ]
  },
  {
   "cell_type": "code",
   "execution_count": 57,
   "id": "ac51fe35-0949-4767-9bb1-3eab3e1f3bf6",
   "metadata": {},
   "outputs": [],
   "source": [
    "pkl.dump(ds,open(\"Disease_Symptom.pkl\",\"wb\"))"
   ]
  },
  {
   "cell_type": "markdown",
   "id": "f403a957-61f2-4290-8b83-dd2d928dd630",
   "metadata": {},
   "source": []
  }
 ],
 "metadata": {
  "kernelspec": {
   "display_name": "Python 3 (ipykernel)",
   "language": "python",
   "name": "python3"
  },
  "language_info": {
   "codemirror_mode": {
    "name": "ipython",
    "version": 3
   },
   "file_extension": ".py",
   "mimetype": "text/x-python",
   "name": "python",
   "nbconvert_exporter": "python",
   "pygments_lexer": "ipython3",
   "version": "3.12.7"
  }
 },
 "nbformat": 4,
 "nbformat_minor": 5
}
